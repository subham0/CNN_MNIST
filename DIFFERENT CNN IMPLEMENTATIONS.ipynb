{
 "cells": [
  {
   "cell_type": "markdown",
   "id": "e30788a2",
   "metadata": {},
   "source": [
    "# INSTALLING REQUIRED PACKAGES"
   ]
  },
  {
   "cell_type": "code",
   "execution_count": 1,
   "id": "279a841d",
   "metadata": {},
   "outputs": [
    {
     "name": "stdout",
     "output_type": "stream",
     "text": [
      "Requirement already satisfied: numpy in c:\\users\\gupta\\anaconda3\\lib\\site-packages (1.21.5)\n",
      "\n",
      "[notice] A new release of pip available: 22.1.2 -> 22.2.2\n",
      "[notice] To update, run: python.exe -m pip install --upgrade pip\n",
      "Requirement already satisfied: keras in c:\\users\\gupta\\anaconda3\\lib\\site-packages (2.10.0)\n",
      "\n",
      "[notice] A new release of pip available: 22.1.2 -> 22.2.2\n",
      "[notice] To update, run: python.exe -m pip install --upgrade pip\n",
      "Requirement already satisfied: pandas in c:\\users\\gupta\\anaconda3\\lib\\site-packages (1.4.2)\n",
      "Requirement already satisfied: python-dateutil>=2.8.1 in c:\\users\\gupta\\anaconda3\\lib\\site-packages (from pandas) (2.8.2)\n",
      "Requirement already satisfied: pytz>=2020.1 in c:\\users\\gupta\\anaconda3\\lib\\site-packages (from pandas) (2021.3)\n",
      "Requirement already satisfied: numpy>=1.18.5 in c:\\users\\gupta\\anaconda3\\lib\\site-packages (from pandas) (1.21.5)\n",
      "Requirement already satisfied: six>=1.5 in c:\\users\\gupta\\anaconda3\\lib\\site-packages (from python-dateutil>=2.8.1->pandas) (1.16.0)\n",
      "\n",
      "[notice] A new release of pip available: 22.1.2 -> 22.2.2\n",
      "[notice] To update, run: python.exe -m pip install --upgrade pip\n",
      "Requirement already satisfied: seaborn in c:\\users\\gupta\\anaconda3\\lib\\site-packages (0.11.2)\n",
      "Requirement already satisfied: pandas>=0.23 in c:\\users\\gupta\\anaconda3\\lib\\site-packages (from seaborn) (1.4.2)\n",
      "Requirement already satisfied: matplotlib>=2.2 in c:\\users\\gupta\\anaconda3\\lib\\site-packages (from seaborn) (3.5.1)\n",
      "Requirement already satisfied: numpy>=1.15 in c:\\users\\gupta\\anaconda3\\lib\\site-packages (from seaborn) (1.21.5)\n",
      "Requirement already satisfied: scipy>=1.0 in c:\\users\\gupta\\anaconda3\\lib\\site-packages (from seaborn) (1.7.3)\n",
      "Requirement already satisfied: pillow>=6.2.0 in c:\\users\\gupta\\anaconda3\\lib\\site-packages (from matplotlib>=2.2->seaborn) (9.0.1)\n",
      "Requirement already satisfied: packaging>=20.0 in c:\\users\\gupta\\anaconda3\\lib\\site-packages (from matplotlib>=2.2->seaborn) (21.3)\n",
      "Requirement already satisfied: python-dateutil>=2.7 in c:\\users\\gupta\\anaconda3\\lib\\site-packages (from matplotlib>=2.2->seaborn) (2.8.2)\n",
      "Requirement already satisfied: pyparsing>=2.2.1 in c:\\users\\gupta\\anaconda3\\lib\\site-packages (from matplotlib>=2.2->seaborn) (3.0.4)\n",
      "Requirement already satisfied: cycler>=0.10 in c:\\users\\gupta\\anaconda3\\lib\\site-packages (from matplotlib>=2.2->seaborn) (0.11.0)\n",
      "Requirement already satisfied: fonttools>=4.22.0 in c:\\users\\gupta\\anaconda3\\lib\\site-packages (from matplotlib>=2.2->seaborn) (4.25.0)\n",
      "Requirement already satisfied: kiwisolver>=1.0.1 in c:\\users\\gupta\\anaconda3\\lib\\site-packages (from matplotlib>=2.2->seaborn) (1.3.2)\n",
      "Requirement already satisfied: pytz>=2020.1 in c:\\users\\gupta\\anaconda3\\lib\\site-packages (from pandas>=0.23->seaborn) (2021.3)\n",
      "Requirement already satisfied: six>=1.5 in c:\\users\\gupta\\anaconda3\\lib\\site-packages (from python-dateutil>=2.7->matplotlib>=2.2->seaborn) (1.16.0)\n",
      "\n",
      "[notice] A new release of pip available: 22.1.2 -> 22.2.2\n",
      "[notice] To update, run: python.exe -m pip install --upgrade pip\n",
      "Requirement already satisfied: tensorflow in c:\\users\\gupta\\anaconda3\\lib\\site-packages (2.10.0)\n",
      "Requirement already satisfied: opt-einsum>=2.3.2 in c:\\users\\gupta\\anaconda3\\lib\\site-packages (from tensorflow) (3.3.0)\n",
      "Requirement already satisfied: protobuf<3.20,>=3.9.2 in c:\\users\\gupta\\anaconda3\\lib\\site-packages (from tensorflow) (3.19.1)\n",
      "Requirement already satisfied: typing-extensions>=3.6.6 in c:\\users\\gupta\\anaconda3\\lib\\site-packages (from tensorflow) (4.1.1)\n",
      "Requirement already satisfied: h5py>=2.9.0 in c:\\users\\gupta\\anaconda3\\lib\\site-packages (from tensorflow) (3.6.0)\n",
      "Requirement already satisfied: astunparse>=1.6.0 in c:\\users\\gupta\\anaconda3\\lib\\site-packages (from tensorflow) (1.6.3)\n",
      "Requirement already satisfied: setuptools in c:\\users\\gupta\\anaconda3\\lib\\site-packages (from tensorflow) (63.2.0)\n",
      "Requirement already satisfied: google-pasta>=0.1.1 in c:\\users\\gupta\\anaconda3\\lib\\site-packages (from tensorflow) (0.2.0)\n",
      "Requirement already satisfied: grpcio<2.0,>=1.24.3 in c:\\users\\gupta\\anaconda3\\lib\\site-packages (from tensorflow) (1.42.0)\n",
      "Requirement already satisfied: flatbuffers>=2.0 in c:\\users\\gupta\\anaconda3\\lib\\site-packages (from tensorflow) (22.9.24)\n",
      "Requirement already satisfied: absl-py>=1.0.0 in c:\\users\\gupta\\anaconda3\\lib\\site-packages (from tensorflow) (1.2.0)\n",
      "Requirement already satisfied: tensorflow-io-gcs-filesystem>=0.23.1 in c:\\users\\gupta\\anaconda3\\lib\\site-packages (from tensorflow) (0.27.0)\n",
      "Requirement already satisfied: libclang>=13.0.0 in c:\\users\\gupta\\anaconda3\\lib\\site-packages (from tensorflow) (14.0.6)\n",
      "Requirement already satisfied: keras<2.11,>=2.10.0 in c:\\users\\gupta\\anaconda3\\lib\\site-packages (from tensorflow) (2.10.0)\n",
      "Requirement already satisfied: wrapt>=1.11.0 in c:\\users\\gupta\\anaconda3\\lib\\site-packages (from tensorflow) (1.12.1)\n",
      "Requirement already satisfied: tensorflow-estimator<2.11,>=2.10.0 in c:\\users\\gupta\\anaconda3\\lib\\site-packages (from tensorflow) (2.10.0)\n",
      "Requirement already satisfied: gast<=0.4.0,>=0.2.1 in c:\\users\\gupta\\anaconda3\\lib\\site-packages (from tensorflow) (0.4.0)\n",
      "Requirement already satisfied: numpy>=1.20 in c:\\users\\gupta\\anaconda3\\lib\\site-packages (from tensorflow) (1.21.5)\n",
      "Requirement already satisfied: tensorboard<2.11,>=2.10 in c:\\users\\gupta\\anaconda3\\lib\\site-packages (from tensorflow) (2.10.1)\n",
      "Requirement already satisfied: termcolor>=1.1.0 in c:\\users\\gupta\\anaconda3\\lib\\site-packages (from tensorflow) (2.0.1)\n",
      "Requirement already satisfied: keras-preprocessing>=1.1.1 in c:\\users\\gupta\\anaconda3\\lib\\site-packages (from tensorflow) (1.1.2)\n",
      "Requirement already satisfied: packaging in c:\\users\\gupta\\anaconda3\\lib\\site-packages (from tensorflow) (21.3)\n",
      "Requirement already satisfied: six>=1.12.0 in c:\\users\\gupta\\anaconda3\\lib\\site-packages (from tensorflow) (1.16.0)\n",
      "Requirement already satisfied: wheel<1.0,>=0.23.0 in c:\\users\\gupta\\anaconda3\\lib\\site-packages (from astunparse>=1.6.0->tensorflow) (0.37.1)\n",
      "Requirement already satisfied: tensorboard-data-server<0.7.0,>=0.6.0 in c:\\users\\gupta\\anaconda3\\lib\\site-packages (from tensorboard<2.11,>=2.10->tensorflow) (0.6.1)\n",
      "Requirement already satisfied: tensorboard-plugin-wit>=1.6.0 in c:\\users\\gupta\\anaconda3\\lib\\site-packages (from tensorboard<2.11,>=2.10->tensorflow) (1.8.1)\n",
      "Requirement already satisfied: google-auth<3,>=1.6.3 in c:\\users\\gupta\\anaconda3\\lib\\site-packages (from tensorboard<2.11,>=2.10->tensorflow) (1.33.0)\n",
      "Requirement already satisfied: google-auth-oauthlib<0.5,>=0.4.1 in c:\\users\\gupta\\anaconda3\\lib\\site-packages (from tensorboard<2.11,>=2.10->tensorflow) (0.4.6)\n",
      "Requirement already satisfied: requests<3,>=2.21.0 in c:\\users\\gupta\\anaconda3\\lib\\site-packages (from tensorboard<2.11,>=2.10->tensorflow) (2.27.1)\n",
      "Requirement already satisfied: markdown>=2.6.8 in c:\\users\\gupta\\anaconda3\\lib\\site-packages (from tensorboard<2.11,>=2.10->tensorflow) (3.3.4)\n",
      "Requirement already satisfied: werkzeug>=1.0.1 in c:\\users\\gupta\\anaconda3\\lib\\site-packages (from tensorboard<2.11,>=2.10->tensorflow) (2.0.3)\n",
      "Requirement already satisfied: pyparsing!=3.0.5,>=2.0.2 in c:\\users\\gupta\\anaconda3\\lib\\site-packages (from packaging->tensorflow) (3.0.4)\n",
      "Requirement already satisfied: pyasn1-modules>=0.2.1 in c:\\users\\gupta\\anaconda3\\lib\\site-packages (from google-auth<3,>=1.6.3->tensorboard<2.11,>=2.10->tensorflow) (0.2.8)\n",
      "Requirement already satisfied: cachetools<5.0,>=2.0.0 in c:\\users\\gupta\\anaconda3\\lib\\site-packages (from google-auth<3,>=1.6.3->tensorboard<2.11,>=2.10->tensorflow) (4.2.2)\n",
      "Requirement already satisfied: rsa<5,>=3.1.4 in c:\\users\\gupta\\anaconda3\\lib\\site-packages (from google-auth<3,>=1.6.3->tensorboard<2.11,>=2.10->tensorflow) (4.7.2)\n",
      "Requirement already satisfied: requests-oauthlib>=0.7.0 in c:\\users\\gupta\\anaconda3\\lib\\site-packages (from google-auth-oauthlib<0.5,>=0.4.1->tensorboard<2.11,>=2.10->tensorflow) (1.3.1)\n",
      "Requirement already satisfied: urllib3<1.27,>=1.21.1 in c:\\users\\gupta\\anaconda3\\lib\\site-packages (from requests<3,>=2.21.0->tensorboard<2.11,>=2.10->tensorflow) (1.26.9)\n",
      "Requirement already satisfied: idna<4,>=2.5 in c:\\users\\gupta\\anaconda3\\lib\\site-packages (from requests<3,>=2.21.0->tensorboard<2.11,>=2.10->tensorflow) (3.3)\n",
      "Requirement already satisfied: certifi>=2017.4.17 in c:\\users\\gupta\\anaconda3\\lib\\site-packages (from requests<3,>=2.21.0->tensorboard<2.11,>=2.10->tensorflow) (2021.10.8)\n",
      "Requirement already satisfied: charset-normalizer~=2.0.0 in c:\\users\\gupta\\anaconda3\\lib\\site-packages (from requests<3,>=2.21.0->tensorboard<2.11,>=2.10->tensorflow) (2.0.4)\n",
      "Requirement already satisfied: pyasn1<0.5.0,>=0.4.6 in c:\\users\\gupta\\anaconda3\\lib\\site-packages (from pyasn1-modules>=0.2.1->google-auth<3,>=1.6.3->tensorboard<2.11,>=2.10->tensorflow) (0.4.8)\n",
      "Requirement already satisfied: oauthlib>=3.0.0 in c:\\users\\gupta\\anaconda3\\lib\\site-packages (from requests-oauthlib>=0.7.0->google-auth-oauthlib<0.5,>=0.4.1->tensorboard<2.11,>=2.10->tensorflow) (3.2.1)\n",
      "\n",
      "[notice] A new release of pip available: 22.1.2 -> 22.2.2\n",
      "[notice] To update, run: python.exe -m pip install --upgrade pip\n"
     ]
    },
    {
     "name": "stdout",
     "output_type": "stream",
     "text": [
      "Requirement already satisfied: matplotlib in c:\\users\\gupta\\anaconda3\\lib\\site-packages (3.5.1)\n",
      "Requirement already satisfied: packaging>=20.0 in c:\\users\\gupta\\anaconda3\\lib\\site-packages (from matplotlib) (21.3)\n",
      "Requirement already satisfied: numpy>=1.17 in c:\\users\\gupta\\anaconda3\\lib\\site-packages (from matplotlib) (1.21.5)\n",
      "Requirement already satisfied: pillow>=6.2.0 in c:\\users\\gupta\\anaconda3\\lib\\site-packages (from matplotlib) (9.0.1)\n",
      "Requirement already satisfied: pyparsing>=2.2.1 in c:\\users\\gupta\\anaconda3\\lib\\site-packages (from matplotlib) (3.0.4)\n",
      "Requirement already satisfied: python-dateutil>=2.7 in c:\\users\\gupta\\anaconda3\\lib\\site-packages (from matplotlib) (2.8.2)\n",
      "Requirement already satisfied: cycler>=0.10 in c:\\users\\gupta\\anaconda3\\lib\\site-packages (from matplotlib) (0.11.0)\n",
      "Requirement already satisfied: fonttools>=4.22.0 in c:\\users\\gupta\\anaconda3\\lib\\site-packages (from matplotlib) (4.25.0)\n",
      "Requirement already satisfied: kiwisolver>=1.0.1 in c:\\users\\gupta\\anaconda3\\lib\\site-packages (from matplotlib) (1.3.2)\n",
      "Requirement already satisfied: six>=1.5 in c:\\users\\gupta\\anaconda3\\lib\\site-packages (from python-dateutil>=2.7->matplotlib) (1.16.0)\n",
      "\n",
      "[notice] A new release of pip available: 22.1.2 -> 22.2.2\n",
      "[notice] To update, run: python.exe -m pip install --upgrade pip\n",
      "Requirement already satisfied: scikit-learn in c:\\users\\gupta\\anaconda3\\lib\\site-packages (1.1.1)\n",
      "Requirement already satisfied: numpy>=1.17.3 in c:\\users\\gupta\\anaconda3\\lib\\site-packages (from scikit-learn) (1.21.5)\n",
      "Requirement already satisfied: threadpoolctl>=2.0.0 in c:\\users\\gupta\\anaconda3\\lib\\site-packages (from scikit-learn) (2.2.0)\n",
      "Requirement already satisfied: joblib>=1.0.0 in c:\\users\\gupta\\anaconda3\\lib\\site-packages (from scikit-learn) (1.1.0)\n",
      "Requirement already satisfied: scipy>=1.3.2 in c:\\users\\gupta\\anaconda3\\lib\\site-packages (from scikit-learn) (1.7.3)\n",
      "\n",
      "[notice] A new release of pip available: 22.1.2 -> 22.2.2\n",
      "[notice] To update, run: python.exe -m pip install --upgrade pip\n"
     ]
    }
   ],
   "source": [
    "!pip install numpy\n",
    "!pip install keras\n",
    "!pip install pandas\n",
    "!pip install seaborn\n",
    "!pip install tensorflow\n",
    "!pip install matplotlib\n",
    "!pip install scikit-learn\n",
    "!pip install -q -U keras-tuner"
   ]
  },
  {
   "cell_type": "markdown",
   "id": "e8e7261e",
   "metadata": {},
   "source": [
    "# LOADING REQUIRED MODULES"
   ]
  },
  {
   "cell_type": "code",
   "execution_count": 2,
   "id": "81817ff3",
   "metadata": {},
   "outputs": [],
   "source": [
    "import numpy as np\n",
    "import pandas as pd\n",
    "import seaborn as sns\n",
    "import tensorflow as tf\n",
    "from tensorflow import keras\n",
    "import matplotlib.pyplot as plt\n",
    "from tensorflow.keras import layers\n",
    "from tensorflow.keras import models\n",
    "from tensorflow.keras import datasets\n",
    "from sklearn.model_selection import KFold\n",
    "from tensorflow.keras.utils import to_categorical\n",
    "from sklearn.model_selection import train_test_split\n",
    "from sklearn.metrics import precision_recall_fscore_support as score"
   ]
  },
  {
   "cell_type": "markdown",
   "id": "a956c40b",
   "metadata": {},
   "source": [
    "# CNN CLASS FOR IMPLEMENTING DIFFERENT CNN ARCHITECTURES"
   ]
  },
  {
   "cell_type": "code",
   "execution_count": 3,
   "id": "6fc23a96",
   "metadata": {},
   "outputs": [],
   "source": [
    "class CNN:\n",
    "    def __init__(self):\n",
    "        \"\"\"\n",
    "        Load the MNIST Dataset\n",
    "        \"\"\"\n",
    "        (self.train_images, self.train_labels), (self.test_images, self.test_labels) = tf.keras.datasets.mnist.load_data(path=\"mnist_data\")\n",
    "        self.class_names = list(range(0,10))\n",
    "    \n",
    "    def get_data_statistics(self):\n",
    "        \"\"\"\n",
    "        To get basic data statistics\n",
    "        \"\"\"\n",
    "        print(\"Number of Original Training Samples -> {0}\".format(len(self.train_images)))\n",
    "        print(\"Number of Original Test Samples -> {0}\".format(len(self.test_images)))\n",
    "        print(\"Shape of Samples -> {0}\".format(np.shape(self.test_images[0])))\n",
    "        \n",
    "    def view_data(self):\n",
    "        \"\"\"\n",
    "        To view the MNIST Data\n",
    "        \"\"\"\n",
    "        plt.figure(figsize=(20,20))\n",
    "        for i in range(36):\n",
    "            plt.subplot(6,6,i+1)\n",
    "            plt.xticks([])\n",
    "            plt.yticks([])\n",
    "            plt.grid(False)\n",
    "            plt.imshow(self.train_images[i])\n",
    "            plt.xlabel(self.class_names[self.train_labels[i]])\n",
    "        plt.show()\n",
    "    \n",
    "    def clean_data(self):\n",
    "        \"\"\"\n",
    "        To perform data cleaning -\n",
    "        1. Normalize the pixel values\n",
    "        2. Reshape the image to 28 * 28 * 1\n",
    "        3. One Hot Encode the train and test labels\n",
    "        \"\"\"\n",
    "        self.train_images, self.test_images = self.train_images / 255.0, self.test_images / 255.0\n",
    "        self.train_images = self.train_images.reshape((self.train_images.shape[0], 28, 28, 1))\n",
    "        self.test_images = self.test_images.reshape((self.test_images.shape[0], 28, 28, 1))\n",
    "        self.train_labels = to_categorical(self.train_labels)\n",
    "        self.test_labels = to_categorical(self.test_labels)\n",
    "        \n",
    "    def get_train_validation_set(self):\n",
    "        \"\"\"\n",
    "        To split train data into training and validation set \n",
    "        \"\"\"\n",
    "        self.train_images1, self.val_images, self.train_labels1, self.val_labels = train_test_split(self.train_images, self.train_labels, test_size=0.20, random_state=56)    \n",
    "        print(\"Number of Original Training Samples -> {0}\".format(len(self.train_images1)))\n",
    "        print(\"Number of Original Validation Samples -> {0}\".format(len(self.val_images)))\n",
    "    \n",
    "    def initialize_cnn_lenet5(self):\n",
    "        \"\"\"\n",
    "        Initialize LeNet 5 CNN Architecture\n",
    "        \"\"\"\n",
    "        self.model_name = \"cnn_lenet5.h5\"\n",
    "        self.model = models.Sequential()\n",
    "        self.model.add(layers.Conv2D(6, kernel_size=5, strides=1, activation='tanh', padding='same', input_shape=(28, 28, 1)))\n",
    "        self.model.add(layers.AveragePooling2D())\n",
    "        self.model.add(layers.Conv2D(16, kernel_size=5, strides=1, activation='tanh', padding='valid'))\n",
    "        self.model.add(layers.AveragePooling2D())\n",
    "        self.model.add(layers.Flatten())\n",
    "        self.model.add(layers.Dense(120, activation='tanh'))\n",
    "        self.model.add(layers.Dense(84, activation='tanh'))\n",
    "        self.model.add(layers.Dense(10, activation='tanh'))\n",
    "        self.model.compile(optimizer='adam', loss=tf.keras.losses.CategoricalCrossentropy(from_logits=True), metrics=['accuracy'])\n",
    "    \n",
    "        \n",
    "    def initialize_cnn_model1(self):\n",
    "        \"\"\"\n",
    "        Initialize Model 1 CNN Architecture\n",
    "        \"\"\"\n",
    "        self.model_name = \"cnn_model1.h5\"\n",
    "        self.model = models.Sequential()\n",
    "        self.model.add(layers.Conv2D(32, (3, 3), activation='relu', kernel_initializer='he_uniform', input_shape=(28, 28, 1)))\n",
    "        self.model.add(layers.MaxPooling2D((2, 2)))\n",
    "        self.model.add(layers.Flatten())\n",
    "        self.model.add(layers.Dense(100, activation='relu', kernel_initializer='he_uniform'))\n",
    "        self.model.add(layers.Dense(10))\n",
    "        self.model.compile(optimizer='adam', loss=tf.keras.losses.CategoricalCrossentropy(from_logits=True), metrics=['accuracy'])\n",
    "    \n",
    "    def initialize_cnn_model2(self):\n",
    "        \"\"\"\n",
    "        Initialize Model 2 CNN Architecture\n",
    "        \"\"\"\n",
    "        self.model_name = \"cnn_model2.h5\"\n",
    "        self.model = models.Sequential()\n",
    "        self.model.add(layers.Conv2D(32, (3, 3), activation='relu', kernel_initializer='he_uniform', input_shape=(28, 28, 1)))\n",
    "        self.model.add(layers.MaxPooling2D((2, 2)))\n",
    "        self.model.add(layers.Conv2D(64, (3, 3), activation='relu', kernel_initializer='he_uniform'))\n",
    "        self.model.add(layers.Conv2D(64, (3, 3), activation='relu', kernel_initializer='he_uniform'))\n",
    "        self.model.add(layers.MaxPooling2D((2, 2)))\n",
    "        self.model.add(layers.Flatten())\n",
    "        self.model.add(layers.Dense(100, activation='relu', kernel_initializer='he_uniform'))\n",
    "        self.model.add(layers.Dense(10))\n",
    "        self.model.compile(optimizer='adam', loss=tf.keras.losses.CategoricalCrossentropy(from_logits=True), metrics=['accuracy'])\n",
    "    \n",
    "    def get_model_summary(self):\n",
    "        \"\"\"\n",
    "        Get an overview of model architecture\n",
    "        \"\"\"\n",
    "        print(self.model.summary())\n",
    "    \n",
    "    def train_cnn_model(self):\n",
    "        \"\"\"\n",
    "        Train the corresponding CNN model\n",
    "        \"\"\"\n",
    "        self.model_history = self.model.fit(self.train_images1, self.train_labels1, epochs=10, validation_data=(self.val_images, self.val_labels), use_multiprocessing=True)\n",
    "    \n",
    "    def save_cnn_model(self):\n",
    "        \"\"\"\n",
    "        Save the corresponding CNN model\n",
    "        \"\"\"\n",
    "        self.model.save(self.model_name)\n",
    "        print(\"Saved Model -> {0}\".format(self.model_name))\n",
    "    \n",
    "    def evaluate_cnn_model(self):\n",
    "        \"\"\"\n",
    "        Evaluate the corresponding CNN model\n",
    "        \"\"\"\n",
    "        plt.plot(self.model_history.history['accuracy'], label='accuracy')\n",
    "        plt.plot(self.model_history.history['val_accuracy'], label = 'val_accuracy')\n",
    "        plt.xlabel('No of Epochs')\n",
    "        plt.ylabel('Accuracy')\n",
    "        plt.ylim([0.8, 1])\n",
    "        plt.legend(loc='lower right')\n",
    "    \n",
    "    def get_confusion_matrix(self):\n",
    "        \"\"\"\n",
    "        Get the confusion matrix\n",
    "        \"\"\"\n",
    "        self.test_loss, self.test_accuracy = self.model.evaluate(self.test_images, self.test_labels, verbose=2)\n",
    "        print(\"Test Loss -> {0} Test Accuracy -> {1}\".format(self.test_loss,self.test_accuracy))\n",
    "        self.test_predictions = self.model.predict(self.test_images)\n",
    "        self.predict_test_labels = tf.argmax(self.test_predictions, axis = 1)\n",
    "        self.true_test_labels = tf.argmax(self.test_labels, axis = 1)\n",
    "        self.confusion_matrix = tf.math.confusion_matrix(self.predict_test_labels, self.true_test_labels, num_classes=10)\n",
    "        plt.figure(figsize=(10, 8))\n",
    "        sns.heatmap(self.confusion_matrix, xticklabels=list(range(0,10)), yticklabels=list(range(0,10)), annot=True, fmt='g')\n",
    "        plt.xlabel('Predictions')\n",
    "        plt.ylabel('Labels')\n",
    "        plt.show()\n",
    "    \n",
    "    def get_precision_recall_f1score(self):\n",
    "        \"\"\"\n",
    "        Get precision, recall, f1 score and support of the trained CNN model\n",
    "        \"\"\"\n",
    "        self.precision, self.recall, self.fscore, self.support = score(self.true_test_labels, self.predict_test_labels)\n",
    "        self.score_dict = {\"Class\":list(range(0,10)), \"Precision\":self.precision, \"Recall\":self.recall, \"Fscore\":self.fscore}\n",
    "        self.score_df = pd.DataFrame(self.score_dict)\n",
    "        print(self.score_df)"
   ]
  },
  {
   "cell_type": "markdown",
   "id": "d35975a9",
   "metadata": {},
   "source": [
    "## CREATE A CNN CLASS OBJECT"
   ]
  },
  {
   "cell_type": "code",
   "execution_count": 4,
   "id": "6fa1c1df",
   "metadata": {},
   "outputs": [],
   "source": [
    "ob = CNN()"
   ]
  },
  {
   "cell_type": "markdown",
   "id": "81655990",
   "metadata": {},
   "source": [
    "## GET INFO OF DATA"
   ]
  },
  {
   "cell_type": "code",
   "execution_count": 5,
   "id": "e85335a5",
   "metadata": {},
   "outputs": [
    {
     "name": "stdout",
     "output_type": "stream",
     "text": [
      "Number of Original Training Samples -> 60000\n",
      "Number of Original Test Samples -> 10000\n",
      "Shape of Samples -> (28, 28)\n"
     ]
    }
   ],
   "source": [
    "ob.get_data_statistics()"
   ]
  },
  {
   "cell_type": "markdown",
   "id": "bbfd4593",
   "metadata": {},
   "source": [
    "## VIEW DATA"
   ]
  },
  {
   "cell_type": "code",
   "execution_count": 6,
   "id": "4a409ecd",
   "metadata": {},
   "outputs": [
    {
     "data": {
      "image/png": "[encoded data removed]",
      "text/plain": [
       "<Figure size 1440x1440 with 36 Axes>"
      ]
     },
     "metadata": {},
     "output_type": "display_data"
    }
   ],
   "source": [
    "ob.view_data()"
   ]
  },
  {
   "cell_type": "markdown",
   "id": "d2b5010b",
   "metadata": {},
   "source": [
    "## CLEAN DATA"
   ]
  },
  {
   "cell_type": "code",
   "execution_count": 7,
   "id": "e123f669",
   "metadata": {},
   "outputs": [],
   "source": [
    "ob.clean_data()"
   ]
  },
  {
   "cell_type": "markdown",
   "id": "43e6b753",
   "metadata": {},
   "source": [
    "## SPLIT TRAIN DATA INTO TRAIN AND VALIDATION SET"
   ]
  },
  {
   "cell_type": "code",
   "execution_count": 8,
   "id": "aec42d43",
   "metadata": {},
   "outputs": [
    {
     "name": "stdout",
     "output_type": "stream",
     "text": [
      "Number of Original Training Samples -> 48000\n",
      "Number of Original Validation Samples -> 12000\n"
     ]
    }
   ],
   "source": [
    "ob.get_train_validation_set()"
   ]
  },
  {
   "cell_type": "markdown",
   "id": "d64ab278",
   "metadata": {},
   "source": [
    "# IMPLEMENT LENET 5 CNN ARCHITECTURE "
   ]
  },
  {
   "cell_type": "markdown",
   "id": "42a39962",
   "metadata": {},
   "source": [
    "## INITIALIZE LENET 5 CNN MODEL"
   ]
  },
  {
   "cell_type": "code",
   "execution_count": 9,
   "id": "0baaeb75",
   "metadata": {},
   "outputs": [],
   "source": [
    "ob.initialize_cnn_lenet5()"
   ]
  },
  {
   "cell_type": "markdown",
   "id": "ee0617a6",
   "metadata": {},
   "source": [
    "## PRINT MODEL NAME"
   ]
  },
  {
   "cell_type": "code",
   "execution_count": 10,
   "id": "6a407169",
   "metadata": {},
   "outputs": [
    {
     "data": {
      "text/plain": [
       "'cnn_lenet5.h5'"
      ]
     },
     "execution_count": 10,
     "metadata": {},
     "output_type": "execute_result"
    }
   ],
   "source": [
    "ob.model_name"
   ]
  },
  {
   "cell_type": "markdown",
   "id": "fd051506",
   "metadata": {},
   "source": [
    "## PRINT MODEL ARCHITECTURE"
   ]
  },
  {
   "cell_type": "code",
   "execution_count": 11,
   "id": "1d1cb099",
   "metadata": {},
   "outputs": [
    {
     "name": "stdout",
     "output_type": "stream",
     "text": [
      "Model: \"sequential\"\n",
      "_________________________________________________________________\n",
      " Layer (type)                Output Shape              Param #   \n",
      "=================================================================\n",
      " conv2d (Conv2D)             (None, 28, 28, 6)         156       \n",
      "                                                                 \n",
      " average_pooling2d (AverageP  (None, 14, 14, 6)        0         \n",
      " ooling2D)                                                       \n",
      "                                                                 \n",
      " conv2d_1 (Conv2D)           (None, 10, 10, 16)        2416      \n",
      "                                                                 \n",
      " average_pooling2d_1 (Averag  (None, 5, 5, 16)         0         \n",
      " ePooling2D)                                                     \n",
      "                                                                 \n",
      " flatten (Flatten)           (None, 400)               0         \n",
      "                                                                 \n",
      " dense (Dense)               (None, 120)               48120     \n",
      "                                                                 \n",
      " dense_1 (Dense)             (None, 84)                10164     \n",
      "                                                                 \n",
      " dense_2 (Dense)             (None, 10)                850       \n",
      "                                                                 \n",
      "=================================================================\n",
      "Total params: 61,706\n",
      "Trainable params: 61,706\n",
      "Non-trainable params: 0\n",
      "_________________________________________________________________\n",
      "None\n"
     ]
    }
   ],
   "source": [
    "ob.get_model_summary()"
   ]
  },
  {
   "cell_type": "markdown",
   "id": "05229003",
   "metadata": {},
   "source": [
    "## TRAIN LENET 5 CNN MODEL"
   ]
  },
  {
   "cell_type": "code",
   "execution_count": 12,
   "id": "b217e5e7",
   "metadata": {},
   "outputs": [
    {
     "name": "stdout",
     "output_type": "stream",
     "text": [
      "Epoch 1/10\n",
      "1500/1500 [==============================] - 19s 12ms/step - loss: 0.9624 - accuracy: 0.9179 - val_loss: 0.8838 - val_accuracy: 0.9517\n",
      "Epoch 2/10\n",
      "1500/1500 [==============================] - 17s 11ms/step - loss: 0.8565 - accuracy: 0.9670 - val_loss: 0.8541 - val_accuracy: 0.9672\n",
      "Epoch 3/10\n",
      "1500/1500 [==============================] - 17s 11ms/step - loss: 0.8372 - accuracy: 0.9774 - val_loss: 0.8439 - val_accuracy: 0.9722\n",
      "Epoch 4/10\n",
      "1500/1500 [==============================] - 17s 11ms/step - loss: 0.8284 - accuracy: 0.9821 - val_loss: 0.8383 - val_accuracy: 0.9753\n",
      "Epoch 5/10\n",
      "1500/1500 [==============================] - 17s 11ms/step - loss: 0.8235 - accuracy: 0.9841 - val_loss: 0.8288 - val_accuracy: 0.9808\n",
      "Epoch 6/10\n",
      "1500/1500 [==============================] - 17s 11ms/step - loss: 0.8198 - accuracy: 0.9865 - val_loss: 0.8264 - val_accuracy: 0.9810\n",
      "Epoch 7/10\n",
      "1500/1500 [==============================] - 17s 11ms/step - loss: 0.8163 - accuracy: 0.9887 - val_loss: 0.8298 - val_accuracy: 0.9801\n",
      "Epoch 8/10\n",
      "1500/1500 [==============================] - 18s 12ms/step - loss: 0.8134 - accuracy: 0.9905 - val_loss: 0.8327 - val_accuracy: 0.9797\n",
      "Epoch 9/10\n",
      "1500/1500 [==============================] - 18s 12ms/step - loss: 0.8133 - accuracy: 0.9905 - val_loss: 0.8264 - val_accuracy: 0.9824\n",
      "Epoch 10/10\n",
      "1500/1500 [==============================] - 17s 11ms/step - loss: 0.8104 - accuracy: 0.9923 - val_loss: 0.8245 - val_accuracy: 0.9836\n"
     ]
    }
   ],
   "source": [
    "ob.train_cnn_model()"
   ]
  },
  {
   "cell_type": "markdown",
   "id": "7a9435ac",
   "metadata": {},
   "source": [
    "## SAVE LENET 5 CNN MODEL"
   ]
  },
  {
   "cell_type": "code",
   "execution_count": 13,
   "id": "dc7c9008",
   "metadata": {},
   "outputs": [
    {
     "name": "stdout",
     "output_type": "stream",
     "text": [
      "Saved Model -> cnn_lenet5.h5\n"
     ]
    }
   ],
   "source": [
    "ob.save_cnn_model()"
   ]
  },
  {
   "cell_type": "markdown",
   "id": "0b2dcfe9",
   "metadata": {},
   "source": [
    "## EVALUATE LENET 5 CNN MODEL"
   ]
  },
  {
   "cell_type": "code",
   "execution_count": 14,
   "id": "54789e5d",
   "metadata": {},
   "outputs": [
    {
     "data": {
      "image/png": "[encoded data removed]",
      "text/plain": [
       "<Figure size 432x288 with 1 Axes>"
      ]
     },
     "metadata": {
      "needs_background": "light"
     },
     "output_type": "display_data"
    }
   ],
   "source": [
    "ob.evaluate_cnn_model()"
   ]
  },
  {
   "cell_type": "markdown",
   "id": "c67a75e2",
   "metadata": {},
   "source": [
    "## GET CONFUSION MATRIX"
   ]
  },
  {
   "cell_type": "code",
   "execution_count": 15,
   "id": "b696f136",
   "metadata": {},
   "outputs": [
    {
     "name": "stdout",
     "output_type": "stream",
     "text": [
      "313/313 - 2s - loss: 0.8209 - accuracy: 0.9854 - 2s/epoch - 6ms/step\n",
      "Test Loss -> 0.820904016494751 Test Accuracy -> 0.9854000210762024\n",
      "313/313 [==============================] - 2s 5ms/step\n"
     ]
    },
    {
     "data": {
      "image/png": "[encoded data removed]",
      "text/plain": [
       "<Figure size 720x576 with 2 Axes>"
      ]
     },
     "metadata": {
      "needs_background": "light"
     },
     "output_type": "display_data"
    }
   ],
   "source": [
    "ob.get_confusion_matrix()"
   ]
  },
  {
   "cell_type": "markdown",
   "id": "65a67a4d",
   "metadata": {},
   "source": [
    "## GET PRECISION, RECALL AND F1 SCORE"
   ]
  },
  {
   "cell_type": "code",
   "execution_count": 16,
   "id": "406bc530",
   "metadata": {},
   "outputs": [
    {
     "name": "stdout",
     "output_type": "stream",
     "text": [
      "   Class  Precision    Recall    Fscore\n",
      "0      0   0.990844  0.993878  0.992359\n",
      "1      1   0.992084  0.993833  0.992958\n",
      "2      2   0.982625  0.986434  0.984526\n",
      "3      3   0.967276  0.995050  0.980966\n",
      "4      4   0.980789  0.987780  0.984272\n",
      "5      5   0.989773  0.976457  0.983070\n",
      "6      6   0.989540  0.987474  0.988506\n",
      "7      7   0.979788  0.990272  0.985002\n",
      "8      8   0.996825  0.967146  0.981761\n",
      "9      9   0.985944  0.973241  0.979551\n"
     ]
    }
   ],
   "source": [
    "ob.get_precision_recall_f1score()"
   ]
  },
  {
   "cell_type": "markdown",
   "id": "a6a7ed5a",
   "metadata": {},
   "source": [
    "# IMPLEMENT MODEL 1 CNN ARCHITECTURE"
   ]
  },
  {
   "cell_type": "markdown",
   "id": "4e70a658",
   "metadata": {},
   "source": [
    "## INITIALIZE MODEL 1 CNN MODEL"
   ]
  },
  {
   "cell_type": "code",
   "execution_count": 17,
   "id": "42e3ddf0",
   "metadata": {},
   "outputs": [],
   "source": [
    "ob.initialize_cnn_model1()"
   ]
  },
  {
   "cell_type": "markdown",
   "id": "ceac2fe8",
   "metadata": {},
   "source": [
    "## PRINT MODEL NAME"
   ]
  },
  {
   "cell_type": "code",
   "execution_count": 18,
   "id": "d1d9773b",
   "metadata": {},
   "outputs": [
    {
     "data": {
      "text/plain": [
       "'cnn_model1.h5'"
      ]
     },
     "execution_count": 18,
     "metadata": {},
     "output_type": "execute_result"
    }
   ],
   "source": [
    "ob.model_name"
   ]
  },
  {
   "cell_type": "markdown",
   "id": "f2faf2e2",
   "metadata": {},
   "source": [
    "## PRINT MODEL ARCHITECTURE"
   ]
  },
  {
   "cell_type": "code",
   "execution_count": 19,
   "id": "ef6f8829",
   "metadata": {},
   "outputs": [
    {
     "name": "stdout",
     "output_type": "stream",
     "text": [
      "Model: \"sequential_1\"\n",
      "_________________________________________________________________\n",
      " Layer (type)                Output Shape              Param #   \n",
      "=================================================================\n",
      " conv2d_2 (Conv2D)           (None, 26, 26, 32)        320       \n",
      "                                                                 \n",
      " max_pooling2d (MaxPooling2D  (None, 13, 13, 32)       0         \n",
      " )                                                               \n",
      "                                                                 \n",
      " flatten_1 (Flatten)         (None, 5408)              0         \n",
      "                                                                 \n",
      " dense_3 (Dense)             (None, 100)               540900    \n",
      "                                                                 \n",
      " dense_4 (Dense)             (None, 10)                1010      \n",
      "                                                                 \n",
      "=================================================================\n",
      "Total params: 542,230\n",
      "Trainable params: 542,230\n",
      "Non-trainable params: 0\n",
      "_________________________________________________________________\n",
      "None\n"
     ]
    }
   ],
   "source": [
    "ob.get_model_summary()"
   ]
  },
  {
   "cell_type": "markdown",
   "id": "47b873f1",
   "metadata": {},
   "source": [
    "## TRAIN MODEL1  CNN MODEL"
   ]
  },
  {
   "cell_type": "code",
   "execution_count": 20,
   "id": "03cd293e",
   "metadata": {},
   "outputs": [
    {
     "name": "stdout",
     "output_type": "stream",
     "text": [
      "Epoch 1/10\n",
      "1500/1500 [==============================] - 25s 16ms/step - loss: 0.1528 - accuracy: 0.9544 - val_loss: 0.0713 - val_accuracy: 0.9782\n",
      "Epoch 2/10\n",
      "1500/1500 [==============================] - 22s 14ms/step - loss: 0.0503 - accuracy: 0.9850 - val_loss: 0.0635 - val_accuracy: 0.9792\n",
      "Epoch 3/10\n",
      "1500/1500 [==============================] - 20s 13ms/step - loss: 0.0293 - accuracy: 0.9905 - val_loss: 0.0582 - val_accuracy: 0.9813\n",
      "Epoch 4/10\n",
      "1500/1500 [==============================] - 21s 14ms/step - loss: 0.0208 - accuracy: 0.9935 - val_loss: 0.0585 - val_accuracy: 0.9831\n",
      "Epoch 5/10\n",
      "1500/1500 [==============================] - 21s 14ms/step - loss: 0.0127 - accuracy: 0.9959 - val_loss: 0.0609 - val_accuracy: 0.9846\n",
      "Epoch 6/10\n",
      "1500/1500 [==============================] - 19s 13ms/step - loss: 0.0109 - accuracy: 0.9966 - val_loss: 0.0634 - val_accuracy: 0.9838\n",
      "Epoch 7/10\n",
      "1500/1500 [==============================] - 21s 14ms/step - loss: 0.0064 - accuracy: 0.9979 - val_loss: 0.0541 - val_accuracy: 0.9859\n",
      "Epoch 8/10\n",
      "1500/1500 [==============================] - 22s 15ms/step - loss: 0.0058 - accuracy: 0.9982 - val_loss: 0.0627 - val_accuracy: 0.9862\n",
      "Epoch 9/10\n",
      "1500/1500 [==============================] - 20s 13ms/step - loss: 0.0047 - accuracy: 0.9984 - val_loss: 0.0749 - val_accuracy: 0.9827\n",
      "Epoch 10/10\n",
      "1500/1500 [==============================] - 23s 15ms/step - loss: 0.0033 - accuracy: 0.9991 - val_loss: 0.0754 - val_accuracy: 0.9838\n"
     ]
    }
   ],
   "source": [
    "ob.train_cnn_model()"
   ]
  },
  {
   "cell_type": "markdown",
   "id": "3aa294f1",
   "metadata": {},
   "source": [
    "## SAVE MODEL 1 CNN MODEL"
   ]
  },
  {
   "cell_type": "code",
   "execution_count": 21,
   "id": "8f2f2ee6",
   "metadata": {},
   "outputs": [
    {
     "name": "stdout",
     "output_type": "stream",
     "text": [
      "Saved Model -> cnn_model1.h5\n"
     ]
    }
   ],
   "source": [
    "ob.save_cnn_model()"
   ]
  },
  {
   "cell_type": "markdown",
   "id": "c5685178",
   "metadata": {},
   "source": [
    "## EVALUATE MODEL1 CNN MODEL"
   ]
  },
  {
   "cell_type": "code",
   "execution_count": 22,
   "id": "a3df83f2",
   "metadata": {},
   "outputs": [
    {
     "data": {
      "image/png": "[encoded data removed]",
      "text/plain": [
       "<Figure size 432x288 with 1 Axes>"
      ]
     },
     "metadata": {
      "needs_background": "light"
     },
     "output_type": "display_data"
    }
   ],
   "source": [
    "ob.evaluate_cnn_model()"
   ]
  },
  {
   "cell_type": "markdown",
   "id": "3b69ab21",
   "metadata": {},
   "source": [
    "## GET CONFUSION MATRIX"
   ]
  },
  {
   "cell_type": "code",
   "execution_count": 23,
   "id": "7d10c93f",
   "metadata": {},
   "outputs": [
    {
     "name": "stdout",
     "output_type": "stream",
     "text": [
      "313/313 - 2s - loss: 0.0612 - accuracy: 0.9855 - 2s/epoch - 5ms/step\n",
      "Test Loss -> 0.06117556616663933 Test Accuracy -> 0.9854999780654907\n",
      "313/313 [==============================] - 1s 4ms/step\n"
     ]
    },
    {
     "data": {
      "image/png": "[encoded data removed]",
      "text/plain": [
       "<Figure size 720x576 with 2 Axes>"
      ]
     },
     "metadata": {
      "needs_background": "light"
     },
     "output_type": "display_data"
    }
   ],
   "source": [
    "ob.get_confusion_matrix()"
   ]
  },
  {
   "cell_type": "markdown",
   "id": "f3427fe4",
   "metadata": {},
   "source": [
    "## GET PRECISION, RECALL AND F1 SCORE"
   ]
  },
  {
   "cell_type": "code",
   "execution_count": 24,
   "id": "457204e2",
   "metadata": {},
   "outputs": [
    {
     "name": "stdout",
     "output_type": "stream",
     "text": [
      "   Class  Precision    Recall    Fscore\n",
      "0      0   0.987817  0.992857  0.990331\n",
      "1      1   0.991220  0.994714  0.992964\n",
      "2      2   0.988247  0.977713  0.982952\n",
      "3      3   0.983268  0.989109  0.986180\n",
      "4      4   0.991837  0.989817  0.990826\n",
      "5      5   0.979955  0.986547  0.983240\n",
      "6      6   0.987395  0.981211  0.984293\n",
      "7      7   0.990177  0.980545  0.985337\n",
      "8      8   0.969758  0.987680  0.978637\n",
      "9      9   0.983984  0.974232  0.979084\n"
     ]
    }
   ],
   "source": [
    "ob.get_precision_recall_f1score()"
   ]
  },
  {
   "cell_type": "markdown",
   "id": "7030e436",
   "metadata": {},
   "source": [
    "# IMPLEMENT MODEL 2 CNN ARCHITECTURE"
   ]
  },
  {
   "cell_type": "markdown",
   "id": "7d7d886b",
   "metadata": {},
   "source": [
    "## INITIALIZE MODEL 2 CNN MODEL"
   ]
  },
  {
   "cell_type": "code",
   "execution_count": 25,
   "id": "f63b506d",
   "metadata": {},
   "outputs": [],
   "source": [
    "ob.initialize_cnn_model2()"
   ]
  },
  {
   "cell_type": "markdown",
   "id": "62f09def",
   "metadata": {},
   "source": [
    "## PRINT MODEL NAME"
   ]
  },
  {
   "cell_type": "code",
   "execution_count": 26,
   "id": "0e7971d8",
   "metadata": {},
   "outputs": [
    {
     "data": {
      "text/plain": [
       "'cnn_model2.h5'"
      ]
     },
     "execution_count": 26,
     "metadata": {},
     "output_type": "execute_result"
    }
   ],
   "source": [
    "ob.model_name"
   ]
  },
  {
   "cell_type": "markdown",
   "id": "56c2f946",
   "metadata": {},
   "source": [
    "## PRINT MODEL ARCHITECTURE"
   ]
  },
  {
   "cell_type": "code",
   "execution_count": 27,
   "id": "f168363f",
   "metadata": {},
   "outputs": [
    {
     "name": "stdout",
     "output_type": "stream",
     "text": [
      "Model: \"sequential_2\"\n",
      "_________________________________________________________________\n",
      " Layer (type)                Output Shape              Param #   \n",
      "=================================================================\n",
      " conv2d_3 (Conv2D)           (None, 26, 26, 32)        320       \n",
      "                                                                 \n",
      " max_pooling2d_1 (MaxPooling  (None, 13, 13, 32)       0         \n",
      " 2D)                                                             \n",
      "                                                                 \n",
      " conv2d_4 (Conv2D)           (None, 11, 11, 64)        18496     \n",
      "                                                                 \n",
      " conv2d_5 (Conv2D)           (None, 9, 9, 64)          36928     \n",
      "                                                                 \n",
      " max_pooling2d_2 (MaxPooling  (None, 4, 4, 64)         0         \n",
      " 2D)                                                             \n",
      "                                                                 \n",
      " flatten_2 (Flatten)         (None, 1024)              0         \n",
      "                                                                 \n",
      " dense_5 (Dense)             (None, 100)               102500    \n",
      "                                                                 \n",
      " dense_6 (Dense)             (None, 10)                1010      \n",
      "                                                                 \n",
      "=================================================================\n",
      "Total params: 159,254\n",
      "Trainable params: 159,254\n",
      "Non-trainable params: 0\n",
      "_________________________________________________________________\n",
      "None\n"
     ]
    }
   ],
   "source": [
    "ob.get_model_summary()"
   ]
  },
  {
   "cell_type": "markdown",
   "id": "d3b3851f",
   "metadata": {},
   "source": [
    "## TRAIN MODEL2  CNN MODEL"
   ]
  },
  {
   "cell_type": "code",
   "execution_count": 28,
   "id": "644f1421",
   "metadata": {},
   "outputs": [
    {
     "name": "stdout",
     "output_type": "stream",
     "text": [
      "Epoch 1/10\n",
      "1500/1500 [==============================] - 35s 23ms/step - loss: 0.1210 - accuracy: 0.9628 - val_loss: 0.0697 - val_accuracy: 0.9793\n",
      "Epoch 2/10\n",
      "1500/1500 [==============================] - 34s 23ms/step - loss: 0.0418 - accuracy: 0.9868 - val_loss: 0.0459 - val_accuracy: 0.9856\n",
      "Epoch 3/10\n",
      "1500/1500 [==============================] - 34s 23ms/step - loss: 0.0278 - accuracy: 0.9914 - val_loss: 0.0364 - val_accuracy: 0.9896\n",
      "Epoch 4/10\n",
      "1500/1500 [==============================] - 42s 28ms/step - loss: 0.0210 - accuracy: 0.9934 - val_loss: 0.0520 - val_accuracy: 0.9850\n",
      "Epoch 5/10\n",
      "1500/1500 [==============================] - 43s 29ms/step - loss: 0.0184 - accuracy: 0.9937 - val_loss: 0.0378 - val_accuracy: 0.9885\n",
      "Epoch 6/10\n",
      "1500/1500 [==============================] - 42s 28ms/step - loss: 0.0119 - accuracy: 0.9964 - val_loss: 0.0415 - val_accuracy: 0.9905\n",
      "Epoch 7/10\n",
      "1500/1500 [==============================] - 43s 28ms/step - loss: 0.0123 - accuracy: 0.9960 - val_loss: 0.0371 - val_accuracy: 0.9901\n",
      "Epoch 8/10\n",
      "1500/1500 [==============================] - 43s 29ms/step - loss: 0.0112 - accuracy: 0.9962 - val_loss: 0.0405 - val_accuracy: 0.9906\n",
      "Epoch 9/10\n",
      "1500/1500 [==============================] - 41s 27ms/step - loss: 0.0086 - accuracy: 0.9972 - val_loss: 0.0420 - val_accuracy: 0.9909\n",
      "Epoch 10/10\n",
      "1500/1500 [==============================] - 44s 30ms/step - loss: 0.0086 - accuracy: 0.9971 - val_loss: 0.0472 - val_accuracy: 0.9898\n"
     ]
    }
   ],
   "source": [
    "ob.train_cnn_model()"
   ]
  },
  {
   "cell_type": "markdown",
   "id": "187cd932",
   "metadata": {},
   "source": [
    "## SAVE MODEL 2 CNN MODEL"
   ]
  },
  {
   "cell_type": "code",
   "execution_count": 29,
   "id": "0d65b62b",
   "metadata": {},
   "outputs": [
    {
     "name": "stdout",
     "output_type": "stream",
     "text": [
      "Saved Model -> cnn_model2.h5\n"
     ]
    }
   ],
   "source": [
    "ob.save_cnn_model()"
   ]
  },
  {
   "cell_type": "markdown",
   "id": "b242ca94",
   "metadata": {},
   "source": [
    "## EVALUATE MODEL2 CNN MODEL"
   ]
  },
  {
   "cell_type": "code",
   "execution_count": 30,
   "id": "a5a3d614",
   "metadata": {},
   "outputs": [
    {
     "data": {
      "image/png": "[encoded data removed]",
      "text/plain": [
       "<Figure size 432x288 with 1 Axes>"
      ]
     },
     "metadata": {
      "needs_background": "light"
     },
     "output_type": "display_data"
    }
   ],
   "source": [
    "ob.evaluate_cnn_model()"
   ]
  },
  {
   "cell_type": "markdown",
   "id": "b0af5526",
   "metadata": {},
   "source": [
    "## GET CONFUSION MATRIX"
   ]
  },
  {
   "cell_type": "code",
   "execution_count": 31,
   "id": "2fd4d27f",
   "metadata": {},
   "outputs": [
    {
     "name": "stdout",
     "output_type": "stream",
     "text": [
      "313/313 - 3s - loss: 0.0456 - accuracy: 0.9905 - 3s/epoch - 11ms/step\n",
      "Test Loss -> 0.04564450681209564 Test Accuracy -> 0.9904999732971191\n",
      "313/313 [==============================] - 3s 11ms/step\n"
     ]
    },
    {
     "data": {
      "image/png": "[encoded data removed]",
      "text/plain": [
       "<Figure size 720x576 with 2 Axes>"
      ]
     },
     "metadata": {
      "needs_background": "light"
     },
     "output_type": "display_data"
    }
   ],
   "source": [
    "ob.get_confusion_matrix()"
   ]
  },
  {
   "cell_type": "markdown",
   "id": "e96036cb",
   "metadata": {},
   "source": [
    "## GET PRECISION, RECALL AND F1 SCORE"
   ]
  },
  {
   "cell_type": "code",
   "execution_count": 32,
   "id": "2808781b",
   "metadata": {},
   "outputs": [
    {
     "name": "stdout",
     "output_type": "stream",
     "text": [
      "   Class  Precision    Recall    Fscore\n",
      "0      0   0.993884  0.994898  0.994391\n",
      "1      1   0.994718  0.995595  0.995156\n",
      "2      2   0.996082  0.985465  0.990745\n",
      "3      3   0.994012  0.986139  0.990060\n",
      "4      4   0.990844  0.991853  0.991349\n",
      "5      5   0.985539  0.993274  0.989391\n",
      "6      6   0.994748  0.988518  0.991623\n",
      "7      7   0.976077  0.992218  0.984081\n",
      "8      8   0.993802  0.987680  0.990731\n",
      "9      9   0.985192  0.989098  0.987141\n"
     ]
    }
   ],
   "source": [
    "ob.get_precision_recall_f1score()"
   ]
  },
  {
   "cell_type": "code",
   "execution_count": null,
   "id": "7a2d37c8",
   "metadata": {},
   "outputs": [],
   "source": []
  }
 ],
 "metadata": {
  "kernelspec": {
   "display_name": "Python 3 (ipykernel)",
   "language": "python",
   "name": "python3"
  },
  "language_info": {
   "codemirror_mode": {
    "name": "ipython",
    "version": 3
   },
   "file_extension": ".py",
   "mimetype": "text/x-python",
   "name": "python",
   "nbconvert_exporter": "python",
   "pygments_lexer": "ipython3",
   "version": "3.9.12"
  }
 },
 "nbformat": 4,
 "nbformat_minor": 5
}
